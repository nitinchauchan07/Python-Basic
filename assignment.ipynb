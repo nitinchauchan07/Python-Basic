{
  "nbformat": 4,
  "nbformat_minor": 0,
  "metadata": {
    "colab": {
      "provenance": []
    },
    "kernelspec": {
      "name": "python3",
      "display_name": "Python 3"
    },
    "language_info": {
      "name": "python"
    }
  },
  "cells": [
    {
      "cell_type": "code",
      "execution_count": null,
      "metadata": {
        "id": "f1N4g8TLln-p"
      },
      "outputs": [],
      "source": []
    },
    {
      "cell_type": "markdown",
      "source": [
        "1. Write a python program to print \"hello , world \" ."
      ],
      "metadata": {
        "id": "Erkza-yEltt9"
      }
    },
    {
      "cell_type": "code",
      "source": [
        "print(\"Hello,World\")"
      ],
      "metadata": {
        "colab": {
          "base_uri": "https://localhost:8080/"
        },
        "id": "MVGwdR5JmCOm",
        "outputId": "f2084a57-5093-44a4-bbab-ab7fa6d34edb"
      },
      "execution_count": null,
      "outputs": [
        {
          "output_type": "stream",
          "name": "stdout",
          "text": [
            "Hello,World\n"
          ]
        }
      ]
    },
    {
      "cell_type": "markdown",
      "source": [
        "2.Write a python program that displays your name and age."
      ],
      "metadata": {
        "id": "zbyHt5CkmP9-"
      }
    },
    {
      "cell_type": "code",
      "source": [
        "Name = \"Nitin Chauhan\"\n",
        "Age = 22\n",
        "print(\"Name\")\n",
        "print(\"Age\")"
      ],
      "metadata": {
        "colab": {
          "base_uri": "https://localhost:8080/"
        },
        "id": "8_9zCxcymfgy",
        "outputId": "b0912627-3943-476e-9e94-f7ecfd89f620"
      },
      "execution_count": null,
      "outputs": [
        {
          "output_type": "stream",
          "name": "stdout",
          "text": [
            "Name\n",
            "Age\n"
          ]
        }
      ]
    },
    {
      "cell_type": "markdown",
      "source": [
        "3.Write code to print all the pre - defined keywords in python using the keyword library."
      ],
      "metadata": {
        "id": "NfES6_lLm2kl"
      }
    },
    {
      "cell_type": "code",
      "source": [
        "import keyword\n",
        "\n",
        "\n",
        "keywords = keyword.kwlist\n",
        "\n",
        "\n",
        "print(\"Predefined Python Keywords:\")\n",
        "for kw in keywords:\n",
        "    print(kw)\n"
      ],
      "metadata": {
        "colab": {
          "base_uri": "https://localhost:8080/"
        },
        "id": "zQZvyHA9o2St",
        "outputId": "408fc69e-c008-41b1-edf3-1e356ad91548"
      },
      "execution_count": null,
      "outputs": [
        {
          "output_type": "stream",
          "name": "stdout",
          "text": [
            "Predefined Python Keywords:\n",
            "False\n",
            "None\n",
            "True\n",
            "and\n",
            "as\n",
            "assert\n",
            "async\n",
            "await\n",
            "break\n",
            "class\n",
            "continue\n",
            "def\n",
            "del\n",
            "elif\n",
            "else\n",
            "except\n",
            "finally\n",
            "for\n",
            "from\n",
            "global\n",
            "if\n",
            "import\n",
            "in\n",
            "is\n",
            "lambda\n",
            "nonlocal\n",
            "not\n",
            "or\n",
            "pass\n",
            "raise\n",
            "return\n",
            "try\n",
            "while\n",
            "with\n",
            "yield\n"
          ]
        }
      ]
    },
    {
      "cell_type": "markdown",
      "source": [
        "4.Write a program that checks if a given word is a python keyword."
      ],
      "metadata": {
        "id": "VdrJUsuWpS-V"
      }
    },
    {
      "cell_type": "code",
      "source": [
        "import keyword\n",
        "\n",
        "\n",
        "word = input(\"Enter a word to check: \")\n",
        "\n",
        "\n",
        "if keyword.iskeyword(word):\n",
        "    print(f\"'{word}' is a Python keyword.\")\n",
        "else:\n",
        "    print(f\"'{word}' is NOT a Python keyword.\")\n"
      ],
      "metadata": {
        "colab": {
          "base_uri": "https://localhost:8080/"
        },
        "id": "4po9-aAqpqdq",
        "outputId": "f76009bd-3c3e-4b35-f602-fdf2638b58f4"
      },
      "execution_count": null,
      "outputs": [
        {
          "output_type": "stream",
          "name": "stdout",
          "text": [
            "Enter a word to check: if\n",
            "'if' is a Python keyword.\n"
          ]
        }
      ]
    },
    {
      "cell_type": "markdown",
      "source": [
        "5. Create a list and tuple in python and demonstrate now attempting to change an element works differently for each."
      ],
      "metadata": {
        "id": "h3HD5K5Ip_og"
      }
    },
    {
      "cell_type": "code",
      "source": [
        "\n",
        "my_list = [10, 20, 30]\n",
        "my_tuple = (10, 20, 30)\n",
        "\n",
        "\n",
        "print(\"Original list:\", my_list)\n",
        "my_list[1] = 200\n",
        "print(\"Modified list:\", my_list)\n",
        "\n",
        "\n",
        "print(\"\\nOriginal tuple:\", my_tuple)\n",
        "try:\n",
        "    my_tuple[1] = 200\n",
        "except TypeError as e:\n",
        "    print(\"Error when modifying tuple:\", e)\n"
      ],
      "metadata": {
        "colab": {
          "base_uri": "https://localhost:8080/"
        },
        "id": "_VWwYNbDqvK9",
        "outputId": "952a14c3-48cb-4ba8-d703-9884121b546b"
      },
      "execution_count": null,
      "outputs": [
        {
          "output_type": "stream",
          "name": "stdout",
          "text": [
            "Original list: [10, 20, 30]\n",
            "Modified list: [10, 200, 30]\n",
            "\n",
            "Original tuple: (10, 20, 30)\n",
            "Error when modifying tuple: 'tuple' object does not support item assignment\n"
          ]
        }
      ]
    },
    {
      "cell_type": "markdown",
      "source": [
        "6.Write a function to demonstrate the behavior of mutable and immutable aguments."
      ],
      "metadata": {
        "id": "fAhCIYTBrABs"
      }
    },
    {
      "cell_type": "code",
      "source": [
        "def modify_args(a_number, a_list):\n",
        "    print(\"\\nInside function before modification:\")\n",
        "    print(\"a_number =\", a_number)\n",
        "    print(\"a_list =\", a_list)\n",
        "\n",
        "    a_number += 10\n",
        "    a_list.append(100)\n",
        "\n",
        "    print(\"\\nInside function after modification:\")\n",
        "    print(\"a_number =\", a_number)\n",
        "    print(\"a_list =\", a_list)\n",
        "\n",
        "\n",
        "\n",
        "num = 50\n",
        "my_list = [1, 2, 3]\n",
        "\n",
        "print(\"Before calling function:\")\n",
        "print(\"num =\", num)\n",
        "print(\"my_list =\", my_list)\n",
        "\n",
        "modify_args(num, my_list)\n",
        "\n",
        "print(\"\\nAfter calling function:\")\n",
        "print(\"num =\", num)\n",
        "print(\"my_list =\", my_list)\n"
      ],
      "metadata": {
        "colab": {
          "base_uri": "https://localhost:8080/"
        },
        "id": "KmMMJ_0Lrc11",
        "outputId": "b7dbea88-4db1-426d-b609-eee6a2933ff6"
      },
      "execution_count": null,
      "outputs": [
        {
          "output_type": "stream",
          "name": "stdout",
          "text": [
            "Before calling function:\n",
            "num = 50\n",
            "my_list = [1, 2, 3]\n",
            "\n",
            "Inside function before modification:\n",
            "a_number = 50\n",
            "a_list = [1, 2, 3]\n",
            "\n",
            "Inside function after modification:\n",
            "a_number = 60\n",
            "a_list = [1, 2, 3, 100]\n",
            "\n",
            "After calling function:\n",
            "num = 50\n",
            "my_list = [1, 2, 3, 100]\n"
          ]
        }
      ]
    },
    {
      "cell_type": "markdown",
      "source": [
        "7.Write a program that performs basic arithmetic operations on two user - input numbers."
      ],
      "metadata": {
        "id": "EcwtV_V2sAdz"
      }
    },
    {
      "cell_type": "code",
      "source": [
        "\n",
        "num1 = float(input(\"Enter the first number: \"))\n",
        "num2 = float(input(\"Enter the second number: \"))\n",
        "\n",
        "print(\"\\n--- Arithmetic Operations ---\")\n",
        "print(\"Addition:\", num1 + num2)\n",
        "print(\"Subtraction:\", num1 - num2)\n",
        "print(\"Multiplication:\", num1 * num2)\n",
        "\n",
        "\n",
        "if num2 != 0:\n",
        "    print(\"Division:\", num1 / num2)\n",
        "    print(\"Modulus:\", num1 % num2)\n",
        "else:\n",
        "    print(\"Division: Error (division by zero not allowed)\")\n",
        "    print(\"Modulus: Error (modulus by zero not allowed)\")\n"
      ],
      "metadata": {
        "colab": {
          "base_uri": "https://localhost:8080/"
        },
        "id": "gPavAiVRswjq",
        "outputId": "40fc35cb-3d06-49c5-ee54-127d9ac1ca04"
      },
      "execution_count": null,
      "outputs": [
        {
          "output_type": "stream",
          "name": "stdout",
          "text": [
            "Enter the first number: 23\n",
            "Enter the second number: 24\n",
            "\n",
            "--- Arithmetic Operations ---\n",
            "Addition: 47.0\n",
            "Subtraction: -1.0\n",
            "Multiplication: 552.0\n",
            "Division: 0.9583333333333334\n",
            "Modulus: 23.0\n"
          ]
        }
      ]
    },
    {
      "cell_type": "markdown",
      "source": [
        "8. Write a program to demonstrate the use of logical operators."
      ],
      "metadata": {
        "id": "XcLUaMP-s9x1"
      }
    },
    {
      "cell_type": "code",
      "source": [
        "\n",
        "a = int(input(\"Enter first number: \"))\n",
        "b = int(input(\"Enter second number: \"))\n",
        "\n",
        "\n",
        "if a > 0 and b > 0:\n",
        "    print(\"Both numbers are positive.\")\n",
        "\n",
        "\n",
        "if a > 0 or b > 0:\n",
        "    print(\"At least one number is positive.\")\n",
        "\n",
        "\n",
        "if not (a < 0 and b < 0):\n",
        "    print(\"It is NOT true that both numbers are negative.\")\n",
        "else:\n",
        "    print(\"Both numbers are negative.\")\n"
      ],
      "metadata": {
        "colab": {
          "base_uri": "https://localhost:8080/"
        },
        "id": "VT9srcyHttno",
        "outputId": "44a07988-c973-4cdd-e81c-58d164a27c15"
      },
      "execution_count": null,
      "outputs": [
        {
          "output_type": "stream",
          "name": "stdout",
          "text": [
            "Enter first number: 56\n",
            "Enter second number: 67\n",
            "Both numbers are positive.\n",
            "At least one number is positive.\n",
            "It is NOT true that both numbers are negative.\n"
          ]
        }
      ]
    },
    {
      "cell_type": "markdown",
      "source": [
        "9. Write a python program to convert user input from string to integer, float and boolean types."
      ],
      "metadata": {
        "id": "EPtw0_bNuUXd"
      }
    },
    {
      "cell_type": "code",
      "source": [
        "\n",
        "user_input = input(\"Enter a value: \")\n",
        "\n",
        "\n",
        "try:\n",
        "    int_value = int(user_input)\n",
        "    print(\"Integer:\", int_value)\n",
        "except ValueError:\n",
        "    print(\"Cannot convert to integer.\")\n",
        "\n",
        "\n",
        "try:\n",
        "    float_value = float(user_input)\n",
        "    print(\"Float:\", float_value)\n",
        "except ValueError:\n",
        "    print(\"Cannot convert to float.\")\n",
        "\n",
        "\n",
        "bool_value = bool(user_input)\n",
        "print(\"Boolean (basic conversion):\", bool_value)\n",
        "\n",
        "\n",
        "user_input_lower = user_input.strip().lower()\n",
        "if user_input_lower in [\"true\", \"1\", \"yes\"]:\n",
        "    print(\"Boolean (manual logic): True\")\n",
        "elif user_input_lower in [\"false\", \"0\", \"no\"]:\n",
        "    print(\"Boolean (manual logic): False\")\n",
        "else:\n",
        "    print(\"Boolean (manual logic): Cannot determine (ambiguous input)\")\n"
      ],
      "metadata": {
        "colab": {
          "base_uri": "https://localhost:8080/"
        },
        "id": "zuk2gp15vaAp",
        "outputId": "155c26d3-f9d3-4711-81d2-be91eaf7fa25"
      },
      "execution_count": null,
      "outputs": [
        {
          "output_type": "stream",
          "name": "stdout",
          "text": [
            "Enter a value: 45\n",
            "Integer: 45\n",
            "Float: 45.0\n",
            "Boolean (basic conversion): True\n",
            "Boolean (manual logic): Cannot determine (ambiguous input)\n"
          ]
        }
      ]
    },
    {
      "cell_type": "markdown",
      "source": [
        "10.write code to demonstrate type casting with list elements."
      ],
      "metadata": {
        "id": "Tk5CaYWQv2tF"
      }
    },
    {
      "cell_type": "code",
      "source": [
        "\n",
        "str_list = ['10', '20', '30', '40']\n",
        "\n",
        "int_list = [int(x) for x in str_list]\n",
        "print(\"List of integers:\", int_list)\n",
        "\n",
        "float_list = [float(x) for x in str_list]\n",
        "print(\"List of floats:\", float_list)\n",
        "\n",
        "\n",
        "str_from_int = [str(x) for x in int_list]\n",
        "print(\"List of strings from integers:\", str_from_int)\n"
      ],
      "metadata": {
        "colab": {
          "base_uri": "https://localhost:8080/"
        },
        "id": "SeLtrvHkw__v",
        "outputId": "6505c41b-bd41-4aca-f066-6858b89f3d61"
      },
      "execution_count": null,
      "outputs": [
        {
          "output_type": "stream",
          "name": "stdout",
          "text": [
            "List of integers: [10, 20, 30, 40]\n",
            "List of floats: [10.0, 20.0, 30.0, 40.0]\n",
            "List of strings from integers: ['10', '20', '30', '40']\n"
          ]
        }
      ]
    },
    {
      "cell_type": "markdown",
      "source": [
        "11.write a program that checks if a number is positive , negative , zero."
      ],
      "metadata": {
        "id": "pOHoDIKHxdZf"
      }
    },
    {
      "cell_type": "code",
      "source": [
        "\n",
        "num = float(input(\"Enter a number: \"))\n",
        "\n",
        "\n",
        "if num > 0:\n",
        "    print(\"The number is positive.\")\n",
        "elif num < 0:\n",
        "    print(\"The number is negative.\")\n",
        "else:\n",
        "    print(\"The number is zero.\")\n"
      ],
      "metadata": {
        "colab": {
          "base_uri": "https://localhost:8080/"
        },
        "id": "UquLO19Hx4j9",
        "outputId": "32d668a3-0e3f-4a1d-e7a2-2e60185aab8a"
      },
      "execution_count": null,
      "outputs": [
        {
          "output_type": "stream",
          "name": "stdout",
          "text": [
            "Enter a number: 44\n",
            "The number is positive.\n"
          ]
        }
      ]
    },
    {
      "cell_type": "markdown",
      "source": [
        "12.write a for loop to print numbers from 1 to 10."
      ],
      "metadata": {
        "id": "j3AHb4rwyB4h"
      }
    },
    {
      "cell_type": "code",
      "source": [
        "\n",
        "for i in range(1, 11):\n",
        "    print(i)\n"
      ],
      "metadata": {
        "colab": {
          "base_uri": "https://localhost:8080/"
        },
        "id": "r_62g-qtyTIQ",
        "outputId": "ae62f098-da0c-498b-ed25-8bfb958d2022"
      },
      "execution_count": null,
      "outputs": [
        {
          "output_type": "stream",
          "name": "stdout",
          "text": [
            "1\n",
            "2\n",
            "3\n",
            "4\n",
            "5\n",
            "6\n",
            "7\n",
            "8\n",
            "9\n",
            "10\n"
          ]
        }
      ]
    },
    {
      "cell_type": "markdown",
      "source": [
        "13.write a python program to find the sum of all even number betwwen  1 to 50 ."
      ],
      "metadata": {
        "id": "OkCTbYZgyWTL"
      }
    },
    {
      "cell_type": "code",
      "source": [
        "\n",
        "even_sum = 0\n",
        "\n",
        "\n",
        "for i in range(1, 51):\n",
        "    if i % 2 == 0:\n",
        "        even_sum += i\n",
        "\n",
        "\n",
        "print(\"Sum of even numbers from 1 to 50 is:\", even_sum)\n"
      ],
      "metadata": {
        "colab": {
          "base_uri": "https://localhost:8080/"
        },
        "id": "c_nrf_jryrAb",
        "outputId": "8f0cb819-a0eb-4cad-8bc3-8e234dcfa795"
      },
      "execution_count": null,
      "outputs": [
        {
          "output_type": "stream",
          "name": "stdout",
          "text": [
            "Sum of even numbers from 1 to 50 is: 650\n"
          ]
        }
      ]
    },
    {
      "cell_type": "markdown",
      "source": [
        "14.write a program to reverse a string using a while loop ."
      ],
      "metadata": {
        "id": "DaTKolt7zB7U"
      }
    },
    {
      "cell_type": "code",
      "source": [
        "\n",
        "text = input(\"Enter a string: \")\n",
        "\n",
        "\n",
        "reversed_text = \"\"\n",
        "index = len(text) - 1\n",
        "\n",
        "\n",
        "while index >= 0:\n",
        "    reversed_text += text[index]\n",
        "    index -= 1\n",
        "\n",
        "\n",
        "print(\"Reversed string:\", reversed_text)\n"
      ],
      "metadata": {
        "colab": {
          "base_uri": "https://localhost:8080/"
        },
        "id": "tZa5xUnQzRqX",
        "outputId": "6131166e-546a-4240-f047-82722d22e878"
      },
      "execution_count": null,
      "outputs": [
        {
          "output_type": "stream",
          "name": "stdout",
          "text": [
            "Enter a string: 56\n",
            "Reversed string: 65\n"
          ]
        }
      ]
    },
    {
      "cell_type": "markdown",
      "source": [
        "15.write a python program to calculate the factorial of a number provided the user using a while loop."
      ],
      "metadata": {
        "id": "Drqkr5m-zh7s"
      }
    },
    {
      "cell_type": "code",
      "source": [
        "\n",
        "num = int(input(\"Enter a non-negative integer: \"))\n",
        "\n",
        "\n",
        "if num < 0:\n",
        "    print(\"Factorial is not defined for negative numbers.\")\n",
        "else:\n",
        "    factorial = 1\n",
        "    i = 1\n",
        "\n",
        "    while i <= num:\n",
        "        factorial *= i\n",
        "        i += 1\n",
        "\n",
        "\n",
        "    print(f\"Factorial of {num} is: {factorial}\")\n"
      ],
      "metadata": {
        "colab": {
          "base_uri": "https://localhost:8080/"
        },
        "id": "kXfMNVcAz46L",
        "outputId": "b41f8e7d-8dfb-4c93-ed2a-7de51f9e117e"
      },
      "execution_count": null,
      "outputs": [
        {
          "output_type": "stream",
          "name": "stdout",
          "text": [
            "Enter a non-negative integer: 34\n",
            "Factorial of 34 is: 295232799039604140847618609643520000000\n"
          ]
        }
      ]
    }
  ]
}